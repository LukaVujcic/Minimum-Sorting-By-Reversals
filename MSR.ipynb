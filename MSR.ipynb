{
 "cells": [
  {
   "cell_type": "code",
   "execution_count": 5,
   "metadata": {},
   "outputs": [],
   "source": [
    "import math\n",
    "import random\n",
    "import copy"
   ]
  },
  {
   "cell_type": "code",
   "execution_count": 20,
   "metadata": {},
   "outputs": [],
   "source": [
    "class individual:\n",
    "    def __init__(self,code,startArray):\n",
    "        self.codeWeight=1\n",
    "        self.breakPointsWeight=100\n",
    "        self.code=code\n",
    "        self.array = []\n",
    "        self.startArray = startArray\n",
    "        self.applyReversals()\n",
    "        self.breakpoints=self.getBreakpoints()\n",
    "        self.fitness=self.calculateFitnes()\n",
    "        \n",
    "    def applyReversals(self):\n",
    "        self.array = copy.deepcopy(self.startArray)\n",
    "        for k in range(0,len(self.code),2):\n",
    "            i = self.code[k]\n",
    "            j = self.code[k+1]\n",
    "            for l in range(int((j-i+1)/2)):\n",
    "                self.array[i+l],self.array[j-l] = self.array[j-l],self.array[i+l]\n",
    "\n",
    "    def getBreakpoints(self):\n",
    "        breakPoints=0\n",
    "        for i in range(1,len(self.array)-1):\n",
    "            if abs(self.array[i-1]-self.array[i])>1:\n",
    "                breakPoints+=1\n",
    "        return breakPoints\n",
    "    def calculateFitnes(self):\n",
    "        return self.breakPointsWeight*self.breakpoints+self.codeWeight*len(self.code)"
   ]
  },
  {
   "cell_type": "code",
   "execution_count": 50,
   "metadata": {},
   "outputs": [],
   "source": [
    "class MSR:\n",
    "    def __init__(self,array):\n",
    "        self.populationSize=math.floor(len(array)*math.log(len(array))) #Velicina populacije je floor(n*log n)\n",
    "        self.array=array\n",
    "        self.breakPoints=self.getBreakpoints()\n",
    "        self.population=[]\n",
    "        self.initializePopulation()\n",
    "        self.tournamentSize=math.ceil(0.15*self.populationSize)\n",
    "        self.bestUnit = self.population[0]\n",
    "        self.mutationRate = 0.01\n",
    "        self.numOfIters = 1000000000\n",
    "    def getBreakpoints(self):\n",
    "        breakPoints=0\n",
    "        for i in range(1,len(self.array)-1):\n",
    "            if abs(self.array[i-1]-self.array[i])>1:\n",
    "                breakPoints+=1\n",
    "        return breakPoints\n",
    "    def generateIndividual(self,size):\n",
    "        code=[]\n",
    "        for i in range(size):\n",
    "            m=math.ceil(random.randrange(1,math.ceil(len(self.array)/10)+1))\n",
    "            n=math.ceil(random.randrange(0,math.ceil(9*len(self.array)/10-1)))\n",
    "            begin=n\n",
    "            end=m+n\n",
    "            code.append(begin)\n",
    "            code.append(end)\n",
    "        return individual(code,self.array)\n",
    "            \n",
    "    def initializePopulation(self):\n",
    "        lowerBound=self.breakPoints\n",
    "        upperBound=len(self.array)\n",
    "        for i in range(self.populationSize):\n",
    "            size=random.randrange(lowerBound,upperBound+1)\n",
    "            self.population.append(self.generateIndividual(size))\n",
    "    def selection(self):\n",
    "        selected=random.sample(self.population,self.tournamentSize)\n",
    "        best=min(selected,key=lambda x:x.fitness)\n",
    "        #print(\"BEST: \"+str(best.code))\n",
    "        return best\n",
    "    def crossover(self,parent1,parent2):\n",
    "        if len(parent1)==len(parent2):\n",
    "            while(True):\n",
    "                firstPoint=random.randrange(0,len(parent1))\n",
    "                secondPoint=random.randrange(0,len(parent1))\n",
    "                if firstPoint!=secondPoint:\n",
    "                    break\n",
    "            if firstPoint>secondPoint:\n",
    "                firstPoint,secondPoint=secondPoint,firstPoint\n",
    "            child1=parent1[:firstPoint]+parent2[firstPoint:secondPoint]+parent1[secondPoint:]\n",
    "            child2=parent2[:firstPoint]+parent1[firstPoint:secondPoint]+parent2[secondPoint:]\n",
    "        else:\n",
    "            if len(parent1)<len(parent2):\n",
    "                parent1,parent2=parent2,parent1\n",
    "            point=random.randrange(0,len(parent1)-len(parent2)+1)\n",
    "            child1=parent1[:point]+parent2+parent1[point+len(parent2):]\n",
    "            child2=parent1[point:point+len(parent2)]\n",
    "        return individual(child1,self.array),individual(child2,self.array)\n",
    "\n",
    "    def mutation(self,unit):\n",
    "        while(True):\n",
    "            i = random.randrange(0,int(len(unit.code)/2))\n",
    "            j = random.randrange(0,int(len(unit.code)/2))\n",
    "            if i !=j:\n",
    "                break\n",
    "        if j < i :\n",
    "            i,j = j,i\n",
    "        i = 2*i\n",
    "        j = 2*j\n",
    "        for k in range(j,len(unit.code)-1):\n",
    "            unit.code[k] = unit.code[k+1]\n",
    "        del unit.code[-1]\n",
    "        for k in range(i,len(unit.code)-1):\n",
    "            unit.code[k] = unit.code[k+1]\n",
    "        del unit.code[-1]\n",
    "\n",
    "        unit.applyReversals()\n",
    "        unit.breakPoints = unit.getBreakpoints()\n",
    "        unit.fitness = unit.calculateFitnes()\n",
    "\n",
    "    def generatePopulation(self):\n",
    "        population = []\n",
    "        for i in range(0,self.populationSize,2):\n",
    "            parent1 = self.selection()\n",
    "            parent2 = self.selection()\n",
    "            child1,child2 = self.crossover(parent1.code,parent2.code)\n",
    "            if random.random() < self.mutationRate and len(child1.code)>2:\n",
    "                self.mutation(child1)\n",
    "            if random.random() < self.mutationRate and len(child2.code)>2:\n",
    "                self.mutation(child2)\n",
    "            population.append(child1)\n",
    "            population.append(child2)\n",
    "        self.population = population\n",
    "\n",
    "    def findBest(self):\n",
    "        best=min(self.population,key=lambda x:x.fitness)\n",
    "        return best\n",
    "\n",
    "    def solve(self):\n",
    "        self.initializePopulation()\n",
    "        for i in range(self.numOfIters):\n",
    "            best = self.findBest()\n",
    "            if best.fitness < self.bestUnit.fitness:\n",
    "                self.bestUnit = best\n",
    "            if i%10000 == 0:\n",
    "                print(\"Najbolja jedinka:\\nFitness: \" + str(self.bestUnit.fitness) + \"\\nNiz: \" + str(self.bestUnit.array))\n",
    "               # print([self.population[i].code for i in range(5)])\n",
    "            self.generatePopulation()\n",
    "        print(\"Gotovo\")\n",
    "        print(\"Najbolja jedinka:\\nFitness: \" + str(self.bestUnit.fitness) + \"\\nBrojInverzija: \" + str(len(self.bestUnit.code)/2))\n",
    "        \n"
   ]
  },
  {
   "cell_type": "code",
   "execution_count": 15,
   "metadata": {},
   "outputs": [
    {
     "data": {
      "text/plain": [
       "0"
      ]
     },
     "execution_count": 15,
     "metadata": {},
     "output_type": "execute_result"
    }
   ],
   "source": [
    "random.randrange(0,int(2/2))"
   ]
  },
  {
   "cell_type": "code",
   "execution_count": 51,
   "metadata": {},
   "outputs": [
    {
     "name": "stdout",
     "output_type": "stream",
     "text": [
      "Najbolja jedinka:\n",
      "Fitness: 312\n",
      "Niz: [5, 3, 4, 6, 1, 2, 7]\n",
      "Najbolja jedinka:\n",
      "Fitness: 104\n",
      "Niz: [5, 4, 2, 1, 3, 6, 7]\n",
      "Najbolja jedinka:\n",
      "Fitness: 104\n",
      "Niz: [5, 4, 2, 1, 3, 6, 7]\n",
      "Najbolja jedinka:\n",
      "Fitness: 104\n",
      "Niz: [5, 4, 2, 1, 3, 6, 7]\n",
      "Najbolja jedinka:\n",
      "Fitness: 104\n",
      "Niz: [5, 4, 2, 1, 3, 6, 7]\n",
      "Najbolja jedinka:\n",
      "Fitness: 104\n",
      "Niz: [5, 4, 2, 1, 3, 6, 7]\n"
     ]
    },
    {
     "ename": "KeyboardInterrupt",
     "evalue": "",
     "output_type": "error",
     "traceback": [
      "\u001b[0;31m---------------------------------------------------------------------------\u001b[0m",
      "\u001b[0;31mKeyboardInterrupt\u001b[0m                         Traceback (most recent call last)",
      "\u001b[0;32m<ipython-input-51-975f23b9bb09>\u001b[0m in \u001b[0;36m<module>\u001b[0;34m\u001b[0m\n\u001b[1;32m      1\u001b[0m \u001b[0mmsr\u001b[0m\u001b[0;34m=\u001b[0m\u001b[0mMSR\u001b[0m\u001b[0;34m(\u001b[0m\u001b[0;34m[\u001b[0m\u001b[0;36m5\u001b[0m\u001b[0;34m,\u001b[0m\u001b[0;36m1\u001b[0m\u001b[0;34m,\u001b[0m\u001b[0;36m3\u001b[0m\u001b[0;34m,\u001b[0m\u001b[0;36m6\u001b[0m\u001b[0;34m,\u001b[0m\u001b[0;36m4\u001b[0m\u001b[0;34m,\u001b[0m\u001b[0;36m2\u001b[0m\u001b[0;34m,\u001b[0m\u001b[0;36m7\u001b[0m\u001b[0;34m]\u001b[0m\u001b[0;34m)\u001b[0m\u001b[0;34m\u001b[0m\u001b[0;34m\u001b[0m\u001b[0m\n\u001b[0;32m----> 2\u001b[0;31m \u001b[0mmsr\u001b[0m\u001b[0;34m.\u001b[0m\u001b[0msolve\u001b[0m\u001b[0;34m(\u001b[0m\u001b[0;34m)\u001b[0m\u001b[0;34m\u001b[0m\u001b[0;34m\u001b[0m\u001b[0m\n\u001b[0m",
      "\u001b[0;32m<ipython-input-50-34d62c2a020c>\u001b[0m in \u001b[0;36msolve\u001b[0;34m(self)\u001b[0m\n\u001b[1;32m    105\u001b[0m                 \u001b[0mprint\u001b[0m\u001b[0;34m(\u001b[0m\u001b[0;34m\"Najbolja jedinka:\\nFitness: \"\u001b[0m \u001b[0;34m+\u001b[0m \u001b[0mstr\u001b[0m\u001b[0;34m(\u001b[0m\u001b[0mself\u001b[0m\u001b[0;34m.\u001b[0m\u001b[0mbestUnit\u001b[0m\u001b[0;34m.\u001b[0m\u001b[0mfitness\u001b[0m\u001b[0;34m)\u001b[0m \u001b[0;34m+\u001b[0m \u001b[0;34m\"\\nNiz: \"\u001b[0m \u001b[0;34m+\u001b[0m \u001b[0mstr\u001b[0m\u001b[0;34m(\u001b[0m\u001b[0mself\u001b[0m\u001b[0;34m.\u001b[0m\u001b[0mbestUnit\u001b[0m\u001b[0;34m.\u001b[0m\u001b[0marray\u001b[0m\u001b[0;34m)\u001b[0m\u001b[0;34m)\u001b[0m\u001b[0;34m\u001b[0m\u001b[0;34m\u001b[0m\u001b[0m\n\u001b[1;32m    106\u001b[0m                \u001b[0;31m# print([self.population[i].code for i in range(5)])\u001b[0m\u001b[0;34m\u001b[0m\u001b[0;34m\u001b[0m\u001b[0;34m\u001b[0m\u001b[0m\n\u001b[0;32m--> 107\u001b[0;31m             \u001b[0mself\u001b[0m\u001b[0;34m.\u001b[0m\u001b[0mgeneratePopulation\u001b[0m\u001b[0;34m(\u001b[0m\u001b[0;34m)\u001b[0m\u001b[0;34m\u001b[0m\u001b[0;34m\u001b[0m\u001b[0m\n\u001b[0m\u001b[1;32m    108\u001b[0m         \u001b[0mprint\u001b[0m\u001b[0;34m(\u001b[0m\u001b[0;34m\"Gotovo\"\u001b[0m\u001b[0;34m)\u001b[0m\u001b[0;34m\u001b[0m\u001b[0;34m\u001b[0m\u001b[0m\n\u001b[1;32m    109\u001b[0m         \u001b[0mprint\u001b[0m\u001b[0;34m(\u001b[0m\u001b[0;34m\"Najbolja jedinka:\\nFitness: \"\u001b[0m \u001b[0;34m+\u001b[0m \u001b[0mstr\u001b[0m\u001b[0;34m(\u001b[0m\u001b[0mself\u001b[0m\u001b[0;34m.\u001b[0m\u001b[0mbestUnit\u001b[0m\u001b[0;34m.\u001b[0m\u001b[0mfitness\u001b[0m\u001b[0;34m)\u001b[0m \u001b[0;34m+\u001b[0m \u001b[0;34m\"\\nBrojInverzija: \"\u001b[0m \u001b[0;34m+\u001b[0m \u001b[0mstr\u001b[0m\u001b[0;34m(\u001b[0m\u001b[0mlen\u001b[0m\u001b[0;34m(\u001b[0m\u001b[0mself\u001b[0m\u001b[0;34m.\u001b[0m\u001b[0mbestUnit\u001b[0m\u001b[0;34m.\u001b[0m\u001b[0mcode\u001b[0m\u001b[0;34m)\u001b[0m\u001b[0;34m/\u001b[0m\u001b[0;36m2\u001b[0m\u001b[0;34m)\u001b[0m\u001b[0;34m)\u001b[0m\u001b[0;34m\u001b[0m\u001b[0;34m\u001b[0m\u001b[0m\n",
      "\u001b[0;32m<ipython-input-50-34d62c2a020c>\u001b[0m in \u001b[0;36mgeneratePopulation\u001b[0;34m(self)\u001b[0m\n\u001b[1;32m     81\u001b[0m         \u001b[0mpopulation\u001b[0m \u001b[0;34m=\u001b[0m \u001b[0;34m[\u001b[0m\u001b[0;34m]\u001b[0m\u001b[0;34m\u001b[0m\u001b[0;34m\u001b[0m\u001b[0m\n\u001b[1;32m     82\u001b[0m         \u001b[0;32mfor\u001b[0m \u001b[0mi\u001b[0m \u001b[0;32min\u001b[0m \u001b[0mrange\u001b[0m\u001b[0;34m(\u001b[0m\u001b[0;36m0\u001b[0m\u001b[0;34m,\u001b[0m\u001b[0mself\u001b[0m\u001b[0;34m.\u001b[0m\u001b[0mpopulationSize\u001b[0m\u001b[0;34m,\u001b[0m\u001b[0;36m2\u001b[0m\u001b[0;34m)\u001b[0m\u001b[0;34m:\u001b[0m\u001b[0;34m\u001b[0m\u001b[0;34m\u001b[0m\u001b[0m\n\u001b[0;32m---> 83\u001b[0;31m             \u001b[0mparent1\u001b[0m \u001b[0;34m=\u001b[0m \u001b[0mself\u001b[0m\u001b[0;34m.\u001b[0m\u001b[0mselection\u001b[0m\u001b[0;34m(\u001b[0m\u001b[0;34m)\u001b[0m\u001b[0;34m\u001b[0m\u001b[0;34m\u001b[0m\u001b[0m\n\u001b[0m\u001b[1;32m     84\u001b[0m             \u001b[0mparent2\u001b[0m \u001b[0;34m=\u001b[0m \u001b[0mself\u001b[0m\u001b[0;34m.\u001b[0m\u001b[0mselection\u001b[0m\u001b[0;34m(\u001b[0m\u001b[0;34m)\u001b[0m\u001b[0;34m\u001b[0m\u001b[0;34m\u001b[0m\u001b[0m\n\u001b[1;32m     85\u001b[0m             \u001b[0mchild1\u001b[0m\u001b[0;34m,\u001b[0m\u001b[0mchild2\u001b[0m \u001b[0;34m=\u001b[0m \u001b[0mself\u001b[0m\u001b[0;34m.\u001b[0m\u001b[0mcrossover\u001b[0m\u001b[0;34m(\u001b[0m\u001b[0mparent1\u001b[0m\u001b[0;34m.\u001b[0m\u001b[0mcode\u001b[0m\u001b[0;34m,\u001b[0m\u001b[0mparent2\u001b[0m\u001b[0;34m.\u001b[0m\u001b[0mcode\u001b[0m\u001b[0;34m)\u001b[0m\u001b[0;34m\u001b[0m\u001b[0;34m\u001b[0m\u001b[0m\n",
      "\u001b[0;32m<ipython-input-50-34d62c2a020c>\u001b[0m in \u001b[0;36mselection\u001b[0;34m(self)\u001b[0m\n\u001b[1;32m     35\u001b[0m     \u001b[0;32mdef\u001b[0m \u001b[0mselection\u001b[0m\u001b[0;34m(\u001b[0m\u001b[0mself\u001b[0m\u001b[0;34m)\u001b[0m\u001b[0;34m:\u001b[0m\u001b[0;34m\u001b[0m\u001b[0;34m\u001b[0m\u001b[0m\n\u001b[1;32m     36\u001b[0m         \u001b[0mselected\u001b[0m\u001b[0;34m=\u001b[0m\u001b[0mrandom\u001b[0m\u001b[0;34m.\u001b[0m\u001b[0msample\u001b[0m\u001b[0;34m(\u001b[0m\u001b[0mself\u001b[0m\u001b[0;34m.\u001b[0m\u001b[0mpopulation\u001b[0m\u001b[0;34m,\u001b[0m\u001b[0mself\u001b[0m\u001b[0;34m.\u001b[0m\u001b[0mtournamentSize\u001b[0m\u001b[0;34m)\u001b[0m\u001b[0;34m\u001b[0m\u001b[0;34m\u001b[0m\u001b[0m\n\u001b[0;32m---> 37\u001b[0;31m         \u001b[0mbest\u001b[0m\u001b[0;34m=\u001b[0m\u001b[0mmin\u001b[0m\u001b[0;34m(\u001b[0m\u001b[0mselected\u001b[0m\u001b[0;34m,\u001b[0m\u001b[0mkey\u001b[0m\u001b[0;34m=\u001b[0m\u001b[0;32mlambda\u001b[0m \u001b[0mx\u001b[0m\u001b[0;34m:\u001b[0m\u001b[0mx\u001b[0m\u001b[0;34m.\u001b[0m\u001b[0mfitness\u001b[0m\u001b[0;34m)\u001b[0m\u001b[0;34m\u001b[0m\u001b[0;34m\u001b[0m\u001b[0m\n\u001b[0m\u001b[1;32m     38\u001b[0m         \u001b[0;31m#print(\"BEST: \"+str(best.code))\u001b[0m\u001b[0;34m\u001b[0m\u001b[0;34m\u001b[0m\u001b[0;34m\u001b[0m\u001b[0m\n\u001b[1;32m     39\u001b[0m         \u001b[0;32mreturn\u001b[0m \u001b[0mbest\u001b[0m\u001b[0;34m\u001b[0m\u001b[0;34m\u001b[0m\u001b[0m\n",
      "\u001b[0;31mKeyboardInterrupt\u001b[0m: "
     ]
    }
   ],
   "source": [
    "msr=MSR([5,1,3,6,4,2,7])\n",
    "msr.solve()"
   ]
  },
  {
   "cell_type": "code",
   "execution_count": 42,
   "metadata": {},
   "outputs": [],
   "source": []
  },
  {
   "cell_type": "code",
   "execution_count": 44,
   "metadata": {},
   "outputs": [
    {
     "data": {
      "text/plain": [
       "([6, 5, 4, 3, 2, 1, 7, 8], [1, 2, 3, 4, 5, 6])"
      ]
     },
     "execution_count": 44,
     "metadata": {},
     "output_type": "execute_result"
    }
   ],
   "source": [
    "crossover([1,2,3,4,5,6,7,8],[6,5,4,3,2,1])"
   ]
  },
  {
   "cell_type": "code",
   "execution_count": null,
   "metadata": {},
   "outputs": [],
   "source": [
    "#num(breakpoint)+length(code)"
   ]
  }
 ],
 "metadata": {
  "kernelspec": {
   "display_name": "Python 3",
   "language": "python",
   "name": "python3"
  },
  "language_info": {
   "codemirror_mode": {
    "name": "ipython",
    "version": 3
   },
   "file_extension": ".py",
   "mimetype": "text/x-python",
   "name": "python",
   "nbconvert_exporter": "python",
   "pygments_lexer": "ipython3",
   "version": "3.6.9"
  }
 },
 "nbformat": 4,
 "nbformat_minor": 4
}
