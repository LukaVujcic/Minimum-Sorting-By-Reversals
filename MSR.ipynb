{
 "cells": [
  {
   "cell_type": "code",
   "execution_count": 26,
   "metadata": {},
   "outputs": [],
   "source": [
    "import math\n",
    "import random"
   ]
  },
  {
   "cell_type": "code",
   "execution_count": 141,
   "metadata": {},
   "outputs": [],
   "source": [
    "class individual:\n",
    "    def __init__(self,code,startArray):\n",
    "        self.codeWeight=2\n",
    "        self.breakPointsWeight=1\n",
    "        self.code=code\n",
    "        self.array=startArray\n",
    "        self.breakpoints=self.getBreakpoints()\n",
    "        self.fitness=self.calculateFitnes()\n",
    "        \n",
    "    def getBreakpoints(self):\n",
    "        breakPoints=0\n",
    "        for i in range(1,len(self.array)-1):\n",
    "            if abs(self.array[i-1]-self.array[i])>1:\n",
    "                breakPoints+=1\n",
    "        return breakPoints\n",
    "    def calculateFitnes(self):\n",
    "        return self.breakPointsWeight*self.breakpoints+self.codeWeight*len(self.code)"
   ]
  },
  {
   "cell_type": "code",
   "execution_count": 14,
   "metadata": {},
   "outputs": [
    {
     "data": {
      "text/plain": [
       "41"
      ]
     },
     "execution_count": 14,
     "metadata": {},
     "output_type": "execute_result"
    }
   ],
   "source": [
    "#jedinka([4,3,6,2],[1,0,3,4,5]).calculateFitnes()"
   ]
  },
  {
   "cell_type": "code",
   "execution_count": 159,
   "metadata": {},
   "outputs": [],
   "source": [
    "class MSR:\n",
    "    def __init__(self,array):\n",
    "        \n",
    "        self.populationSize=math.floor(len(array)*math.log(len(array))) #Velicina populacije je floor(n*log n)\n",
    "        self.array=array\n",
    "        self.breakPoints=self.getBreakpoints()\n",
    "        self.population=[]\n",
    "        self.initializePopulation()\n",
    "       \n",
    "        self.tournamentSize=math.ceil(0.15*self.populationSize)\n",
    "    def getBreakpoints(self):\n",
    "        breakPoints=0\n",
    "        for i in range(1,len(self.array)-1):\n",
    "            if abs(self.array[i-1]-self.array[i])>1:\n",
    "                breakPoints+=1\n",
    "        return breakPoints\n",
    "    def generateIndividual(self,size):\n",
    "        code=[]\n",
    "        for i in range(size):\n",
    "            m=math.ceil(random.randrange(1,math.ceil(len(self.array)/10)+1))\n",
    "            n=math.ceil(random.randrange(0,math.ceil(9*len(self.array)/10-1)))\n",
    "            begin=n\n",
    "            end=m+n\n",
    "            code.append(begin)\n",
    "            code.append(end)\n",
    "        return individual(code,self.array)\n",
    "            \n",
    "    def initializePopulation(self):\n",
    "        lowerBound=self.breakPoints\n",
    "        upperBound=len(self.array)\n",
    "        for i in range(self.populationSize):\n",
    "            size=random.randrange(lowerBound,upperBound+1)\n",
    "            self.population.append(self.generateIndividual(size))\n",
    "    def selection(self):\n",
    "        selected=random.sample(self.population,self.tournamentSize)\n",
    "        best=min(selected,key=lambda x:x.fitness)\n",
    "        return best\n",
    "    def crossover(self,parent1,parent2):\n",
    "        if len(parent1)==len(parent2):\n",
    "            while(True):\n",
    "                firstPoint=random.randrange(0,len(parent1))\n",
    "                secondPoint=random.randrange(0,len(parent1))\n",
    "                if firstPoint!=secondPoint:\n",
    "                    break\n",
    "            if firstPoint>secondPoint:\n",
    "                firstPoint,secondPoint=secondPoint,firstPoint\n",
    "            child1=parent1[:firstPoint]+parent2[firstPoint:secondPoint]+parent1[secondPoint:]\n",
    "            child2=parent2[:firstPoint]+parent1[firstPoint:secondPoint]+parent2[secondPoint:]\n",
    "        else:\n",
    "            if len(parent1)<len(parent2):\n",
    "                parent1,parent2=parent2,parent1\n",
    "            point=random.randrange(0,len(parent1)-len(parent2)+1)\n",
    "            child1=parent1[:point]+parent2+parent1[point+len(parent2):]\n",
    "            child2=parent1[point:point+len(parent2)]\n",
    "        return individual(child1,self.array),individual(child2,self.array)\n",
    "            "
   ]
  },
  {
   "cell_type": "code",
   "execution_count": 174,
   "metadata": {},
   "outputs": [
    {
     "data": {
      "text/plain": [
       "[5, 2, 3]"
      ]
     },
     "execution_count": 174,
     "metadata": {},
     "output_type": "execute_result"
    }
   ],
   "source": []
  },
  {
   "cell_type": "code",
   "execution_count": 133,
   "metadata": {},
   "outputs": [
    {
     "data": {
      "text/plain": [
       "[3, 5, 2, 6, 1]"
      ]
     },
     "execution_count": 133,
     "metadata": {},
     "output_type": "execute_result"
    }
   ],
   "source": [
    "random.sample([1,2,3,4,5,6,7,8],5)"
   ]
  },
  {
   "cell_type": "code",
   "execution_count": null,
   "metadata": {},
   "outputs": [],
   "source": [
    "m->[1,2)\n",
    "n->[0,6)"
   ]
  },
  {
   "cell_type": "code",
   "execution_count": 150,
   "metadata": {},
   "outputs": [],
   "source": [
    "[3,1,2,5]\n",
    "\n",
    "k-duzinu niza\n",
    "\n",
    "l-intervala\n",
    "sum (((k nad 2)/2)^l) 1 do k\n"
   ]
  },
  {
   "cell_type": "code",
   "execution_count": 170,
   "metadata": {},
   "outputs": [
    {
     "data": {
      "text/plain": [
       "[1, 2, 0, 1, 4, 5, 5, 6, 2, 3]"
      ]
     },
     "execution_count": 170,
     "metadata": {},
     "output_type": "execute_result"
    }
   ],
   "source": [
    "msr=MSR([5,1,3,6,4,2,7])\n",
    "msr.initializePopulation()\n",
    "list(map (lambda x: x.code, msr.population))\n",
    "#msr.getBreakpoints()\n",
    "msr.selection().code"
   ]
  },
  {
   "cell_type": "code",
   "execution_count": null,
   "metadata": {},
   "outputs": [],
   "source": [
    "#num(breakpoint)+length(code)"
   ]
  }
 ],
 "metadata": {
  "kernelspec": {
   "display_name": "Python 3",
   "language": "python",
   "name": "python3"
  },
  "language_info": {
   "codemirror_mode": {
    "name": "ipython",
    "version": 3
   },
   "file_extension": ".py",
   "mimetype": "text/x-python",
   "name": "python",
   "nbconvert_exporter": "python",
   "pygments_lexer": "ipython3",
   "version": "3.6.9"
  }
 },
 "nbformat": 4,
 "nbformat_minor": 4
}
