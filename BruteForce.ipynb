{
 "cells": [
  {
   "cell_type": "code",
   "execution_count": 120,
   "metadata": {},
   "outputs": [],
   "source": [
    "from itertools import combinations\n",
    "from itertools import permutations\n",
    "import numpy as np\n",
    "import copy"
   ]
  },
  {
   "cell_type": "code",
   "execution_count": 121,
   "metadata": {},
   "outputs": [],
   "source": [
    "def bruteForceSolve(array):\n",
    "    maximum=max(array)\n",
    "    return permutations(combinations(range(0,maximum),2))"
   ]
  },
  {
   "cell_type": "code",
   "execution_count": 122,
   "metadata": {},
   "outputs": [
    {
     "output_type": "execute_result",
     "data": {
      "text/plain": [
       "[((0, 1), (0, 2), (1, 2)),\n",
       " ((0, 1), (1, 2), (0, 2)),\n",
       " ((0, 2), (0, 1), (1, 2)),\n",
       " ((0, 2), (1, 2), (0, 1)),\n",
       " ((1, 2), (0, 1), (0, 2)),\n",
       " ((1, 2), (0, 2), (0, 1))]"
      ]
     },
     "metadata": {},
     "execution_count": 122
    }
   ],
   "source": [
    "list(bruteForceSolve([1,2,3]))"
   ]
  },
  {
   "cell_type": "code",
   "execution_count": 123,
   "metadata": {},
   "outputs": [],
   "source": [
    "r = list(bruteForceSolve([1,2,3]))\n",
    "n = np.array(r)"
   ]
  },
  {
   "cell_type": "code",
   "execution_count": 124,
   "metadata": {},
   "outputs": [],
   "source": [
    "class individual:\n",
    "    def __init__(self,code,startArray):\n",
    "        self.codeWeight=1\n",
    "        self.breakPointsWeight=10\n",
    "        self.code=code\n",
    "        self.array = []\n",
    "        self.startArray = startArray\n",
    "        self.applyReversals()\n",
    "        self.breakpoints=self.getBreakpoints()\n",
    "        self.fitness=self.calculateFitnes()\n",
    "        \n",
    "    def applyReversals(self):\n",
    "        self.array = copy.deepcopy(self.startArray)\n",
    "        for k in range(0,len(self.code),2):\n",
    "            i = self.code[k]\n",
    "            j = self.code[k+1]\n",
    "            for l in range(int((j-i+1)/2)):\n",
    "                self.array[i+l],self.array[j-l] = self.array[j-l],self.array[i+l]\n",
    "\n",
    "    def getBreakpoints(self):\n",
    "        breakPoints=0\n",
    "        for i in range(1,len(self.array)):\n",
    "            if abs(self.array[i-1]-self.array[i])>1:\n",
    "                breakPoints+=1\n",
    "        return breakPoints\n",
    "    def calculateFitnes(self):\n",
    "        return self.breakPointsWeight*self.breakpoints+self.codeWeight*len(self.code)"
   ]
  },
  {
   "cell_type": "code",
   "execution_count": 125,
   "metadata": {},
   "outputs": [],
   "source": [
    "def izdvoji_k_kolona(resenja,k):\n",
    "    kolone = []\n",
    "    for i in range(len(resenja)):\n",
    "        resenje = []\n",
    "        for j in range(k):\n",
    "            resenje.append(list(resenja[i][j]))\n",
    "        kolone.append(resenje)\n",
    "    return kolone\n",
    "\n",
    "def test(resenje,array):\n",
    "    t = individual(resenje,array)\n",
    "    if t.breakpoints == 0:\n",
    "        return True\n",
    "    return False"
   ]
  },
  {
   "cell_type": "code",
   "execution_count": 126,
   "metadata": {},
   "outputs": [],
   "source": [
    "def bruteForceMSR(array):\n",
    "    n = len(array)\n",
    "    resenja = (list(bruteForceSolve(array)))\n",
    "    for k in range(1,n+1):\n",
    "        resenja_k = izdvoji_k_kolona(resenja,k)\n",
    "        for resenje in resenja_k:\n",
    "            resenje = [item for sublist in resenje for item in sublist]\n",
    "            if test(resenje,array):\n",
    "                return resenje\n",
    "    return [-1]"
   ]
  },
  {
   "cell_type": "code",
   "execution_count": 127,
   "metadata": {},
   "outputs": [
    {
     "output_type": "execute_result",
     "data": {
      "text/plain": [
       "[1, 2]"
      ]
     },
     "metadata": {},
     "execution_count": 127
    }
   ],
   "source": [
    "bruteForceMSR([4,2,1,3])"
   ]
  }
 ],
 "metadata": {
  "kernelspec": {
   "name": "python3",
   "display_name": "Python 3.8.6 64-bit",
   "metadata": {
    "interpreter": {
     "hash": "1baa965d5efe3ac65b79dfc60c0d706280b1da80fedb7760faf2759126c4f253"
    }
   }
  },
  "language_info": {
   "codemirror_mode": {
    "name": "ipython",
    "version": 3
   },
   "file_extension": ".py",
   "mimetype": "text/x-python",
   "name": "python",
   "nbconvert_exporter": "python",
   "pygments_lexer": "ipython3",
   "version": "3.8.6-final"
  }
 },
 "nbformat": 4,
 "nbformat_minor": 4
}